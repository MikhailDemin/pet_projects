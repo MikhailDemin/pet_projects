{
  "nbformat": 4,
  "nbformat_minor": 0,
  "metadata": {
    "colab": {
      "provenance": []
    },
    "kernelspec": {
      "name": "python3",
      "display_name": "Python 3"
    },
    "language_info": {
      "name": "python"
    },
    "accelerator": "GPU",
    "gpuClass": "standard"
  },
  "cells": [
    {
      "cell_type": "code",
      "source": [
        "!pip install transformers\n",
        "!pip install pyTelegramBotAPI\n",
        "!pip install pygismeteo\n",
        "!pip install geopy\n",
        "!pip install tzwhere\n",
        "!pip install pytz"
      ],
      "metadata": {
        "id": "gVfT17mx867b",
        "colab": {
          "base_uri": "https://localhost:8080/"
        },
        "outputId": "8ec72a5b-d77d-49e3-b344-c10f7ecd46c6"
      },
      "execution_count": null,
      "outputs": [
        {
          "output_type": "stream",
          "name": "stdout",
          "text": [
            "Looking in indexes: https://pypi.org/simple, https://us-python.pkg.dev/colab-wheels/public/simple/\n",
            "Requirement already satisfied: transformers in /usr/local/lib/python3.8/dist-packages (4.26.1)\n",
            "Requirement already satisfied: huggingface-hub<1.0,>=0.11.0 in /usr/local/lib/python3.8/dist-packages (from transformers) (0.12.1)\n",
            "Requirement already satisfied: regex!=2019.12.17 in /usr/local/lib/python3.8/dist-packages (from transformers) (2022.6.2)\n",
            "Requirement already satisfied: packaging>=20.0 in /usr/local/lib/python3.8/dist-packages (from transformers) (23.0)\n",
            "Requirement already satisfied: pyyaml>=5.1 in /usr/local/lib/python3.8/dist-packages (from transformers) (6.0)\n",
            "Requirement already satisfied: numpy>=1.17 in /usr/local/lib/python3.8/dist-packages (from transformers) (1.22.4)\n",
            "Requirement already satisfied: tqdm>=4.27 in /usr/local/lib/python3.8/dist-packages (from transformers) (4.64.1)\n",
            "Requirement already satisfied: filelock in /usr/local/lib/python3.8/dist-packages (from transformers) (3.9.0)\n",
            "Requirement already satisfied: requests in /usr/local/lib/python3.8/dist-packages (from transformers) (2.28.2)\n",
            "Requirement already satisfied: tokenizers!=0.11.3,<0.14,>=0.11.1 in /usr/local/lib/python3.8/dist-packages (from transformers) (0.13.2)\n",
            "Requirement already satisfied: typing-extensions>=3.7.4.3 in /usr/local/lib/python3.8/dist-packages (from huggingface-hub<1.0,>=0.11.0->transformers) (4.5.0)\n",
            "Requirement already satisfied: idna<4,>=2.5 in /usr/local/lib/python3.8/dist-packages (from requests->transformers) (2.10)\n",
            "Requirement already satisfied: charset-normalizer<4,>=2 in /usr/local/lib/python3.8/dist-packages (from requests->transformers) (3.0.1)\n",
            "Requirement already satisfied: urllib3<1.27,>=1.21.1 in /usr/local/lib/python3.8/dist-packages (from requests->transformers) (1.26.14)\n",
            "Requirement already satisfied: certifi>=2017.4.17 in /usr/local/lib/python3.8/dist-packages (from requests->transformers) (2022.12.7)\n",
            "Looking in indexes: https://pypi.org/simple, https://us-python.pkg.dev/colab-wheels/public/simple/\n",
            "Requirement already satisfied: pyTelegramBotAPI in /usr/local/lib/python3.8/dist-packages (4.10.0)\n",
            "Requirement already satisfied: requests in /usr/local/lib/python3.8/dist-packages (from pyTelegramBotAPI) (2.28.2)\n",
            "Requirement already satisfied: idna<4,>=2.5 in /usr/local/lib/python3.8/dist-packages (from requests->pyTelegramBotAPI) (2.10)\n",
            "Requirement already satisfied: urllib3<1.27,>=1.21.1 in /usr/local/lib/python3.8/dist-packages (from requests->pyTelegramBotAPI) (1.26.14)\n",
            "Requirement already satisfied: certifi>=2017.4.17 in /usr/local/lib/python3.8/dist-packages (from requests->pyTelegramBotAPI) (2022.12.7)\n",
            "Requirement already satisfied: charset-normalizer<4,>=2 in /usr/local/lib/python3.8/dist-packages (from requests->pyTelegramBotAPI) (3.0.1)\n",
            "Looking in indexes: https://pypi.org/simple, https://us-python.pkg.dev/colab-wheels/public/simple/\n",
            "Requirement already satisfied: pygismeteo in /usr/local/lib/python3.8/dist-packages (5.0.6)\n",
            "Requirement already satisfied: requests<3.0,>=2.28 in /usr/local/lib/python3.8/dist-packages (from pygismeteo) (2.28.2)\n",
            "Requirement already satisfied: pygismeteo-base<5.0,>=4.0 in /usr/local/lib/python3.8/dist-packages (from pygismeteo) (4.0.0)\n",
            "Requirement already satisfied: typing-extensions<5,>=3.7.4.3 in /usr/local/lib/python3.8/dist-packages (from pygismeteo-base<5.0,>=4.0->pygismeteo) (4.5.0)\n",
            "Requirement already satisfied: pydantic<2.0,>=1.9 in /usr/local/lib/python3.8/dist-packages (from pygismeteo-base<5.0,>=4.0->pygismeteo) (1.10.5)\n",
            "Requirement already satisfied: charset-normalizer<4,>=2 in /usr/local/lib/python3.8/dist-packages (from requests<3.0,>=2.28->pygismeteo) (3.0.1)\n",
            "Requirement already satisfied: idna<4,>=2.5 in /usr/local/lib/python3.8/dist-packages (from requests<3.0,>=2.28->pygismeteo) (2.10)\n",
            "Requirement already satisfied: certifi>=2017.4.17 in /usr/local/lib/python3.8/dist-packages (from requests<3.0,>=2.28->pygismeteo) (2022.12.7)\n",
            "Requirement already satisfied: urllib3<1.27,>=1.21.1 in /usr/local/lib/python3.8/dist-packages (from requests<3.0,>=2.28->pygismeteo) (1.26.14)\n",
            "Looking in indexes: https://pypi.org/simple, https://us-python.pkg.dev/colab-wheels/public/simple/\n",
            "Requirement already satisfied: geopy in /usr/local/lib/python3.8/dist-packages (1.17.0)\n",
            "Requirement already satisfied: geographiclib<2,>=1.49 in /usr/local/lib/python3.8/dist-packages (from geopy) (1.52)\n",
            "Looking in indexes: https://pypi.org/simple, https://us-python.pkg.dev/colab-wheels/public/simple/\n",
            "Requirement already satisfied: tzwhere in /usr/local/lib/python3.8/dist-packages (3.0.3)\n",
            "Requirement already satisfied: shapely in /usr/local/lib/python3.8/dist-packages (from tzwhere) (2.0.1)\n",
            "Requirement already satisfied: numpy>=1.14 in /usr/local/lib/python3.8/dist-packages (from shapely->tzwhere) (1.22.4)\n",
            "Looking in indexes: https://pypi.org/simple, https://us-python.pkg.dev/colab-wheels/public/simple/\n",
            "Requirement already satisfied: pytz in /usr/local/lib/python3.8/dist-packages (2022.7.1)\n"
          ]
        }
      ]
    },
    {
      "cell_type": "code",
      "source": [
        "from transformers import AutoModelForCausalLM, AutoTokenizer\n",
        "import torch\n",
        "\n",
        "tokenizer = AutoTokenizer.from_pretrained(\"Den4ikAI/rubert_large_squad_2\")\n",
        "model = AutoModelForCausalLM.from_pretrained(\"Den4ikAI/rubert_large_squad_2\")"
      ],
      "metadata": {
        "colab": {
          "base_uri": "https://localhost:8080/"
        },
        "id": "xlquU1xThe3l",
        "outputId": "c2b652fa-8f1b-4810-952a-641481ad1158"
      },
      "execution_count": null,
      "outputs": [
        {
          "output_type": "stream",
          "name": "stderr",
          "text": [
            "If you want to use `BertLMHeadModel` as a standalone, add `is_decoder=True.`\n",
            "Some weights of the model checkpoint at Den4ikAI/rubert_large_squad_2 were not used when initializing BertLMHeadModel: ['qa_outputs.weight', 'qa_outputs.bias']\n",
            "- This IS expected if you are initializing BertLMHeadModel from the checkpoint of a model trained on another task or with another architecture (e.g. initializing a BertForSequenceClassification model from a BertForPreTraining model).\n",
            "- This IS NOT expected if you are initializing BertLMHeadModel from the checkpoint of a model that you expect to be exactly identical (initializing a BertForSequenceClassification model from a BertForSequenceClassification model).\n",
            "Some weights of BertLMHeadModel were not initialized from the model checkpoint at Den4ikAI/rubert_large_squad_2 and are newly initialized: ['cls.predictions.bias', 'cls.predictions.transform.dense.bias', 'cls.predictions.transform.dense.weight', 'cls.predictions.transform.LayerNorm.weight', 'cls.predictions.transform.LayerNorm.bias']\n",
            "You should probably TRAIN this model on a down-stream task to be able to use it for predictions and inference.\n"
          ]
        }
      ]
    },
    {
      "cell_type": "code",
      "source": [
        "import telebot\n",
        "import requests\n",
        "###################\n",
        "from transformers import AutoTokenizer, AutoModelWithLMHead, pipeline\n",
        "\n",
        "tokenizer = AutoTokenizer.from_pretrained(\"DeepPavlov/nllb-200-distilled-600M-ru-persona-chat\")\n",
        "model = AutoModelWithLMHead.from_pretrained(\"DeepPavlov/nllb-200-distilled-600M-ru-persona-chat\")\n",
        "\n",
        "###############################\n",
        "bot = telebot.TeleBot('6218469964:AAFoKlfcw878W8_zJvnNRulMJGnuBaGbZh0')\n",
        "from pygismeteo import Gismeteo\n",
        "import geopy\n",
        "from tzwhere import tzwhere\n",
        "import datetime\n",
        "import pytz\n",
        "\n",
        "\n",
        "@bot.message_handler(commands=['start'])\n",
        "def start_message(message):\n",
        "    bot.send_message(message.chat.id, 'Привет, я бот!\\nЯ умею разговаривать.\\nНапиши свой запрос в сообщении ниже. \\n Погода или время или еще какую байду.')\n",
        "\n",
        "qa_pipeline = pipeline(\n",
        "     \"question-answering\",\n",
        "     model=\"Den4ikAI/rubert_large_squad_2\",\n",
        "     tokenizer=\"Den4ikAI/rubert_large_squad_2\")\n",
        "\n",
        "text = open('my_file.txt', 'r', encoding='utf-8').read()\n",
        "\n",
        "\n",
        "\n",
        "@bot.message_handler(content_types=['text'])\n",
        "\n",
        "def repeat_all_messages(message): # Название функции не играет никакой роли\n",
        "    #text = re.split('[^a-zа-яё]+', message.text, flags=re.IGNORECASE)\n",
        "    #print(text)\n",
        "    if \"med\" in message.text.lower() or \" med\" in message.text.lower():\n",
        "        #print(predictions)\n",
        "        #bot.send_message(message.chat.id, output[0]['generated_text'])\n",
        "        msg = str(message.text.lower()).replace('med', '')\n",
        "        predictions = qa_pipeline({\n",
        "            'context': text,\n",
        "            'question': msg\n",
        "        })\n",
        "        bot.send_message(message.chat.id, predictions['answer'])\n",
        "    elif \"погод\" in message.text.lower() or \" погод\" in message.text.lower():\n",
        "        bot.send_message(message.chat.id, 'Введи название своего города и я скажу какая погода')\n",
        "        bot.register_next_step_handler(message, weather_reply)\n",
        "    elif \"врем\" in message.text.lower() or \" врем\" in message.text.lower():\n",
        "        bot.send_message(message.chat.id, 'Введи название своего города и я скажу время')\n",
        "        bot.register_next_step_handler(message, time_reply)\n",
        "    else:\n",
        "        prompt = message.text\n",
        "        tokenized_prompt = tokenizer.encode(prompt, return_tensors=\"pt\")\n",
        "        generated_response = model.generate(tokenized_prompt, max_length=50)\n",
        "        generated_response_text = tokenizer.decode(generated_response[0], skip_special_tokens=True)\n",
        "        bot.send_message(message.chat.id, str(generated_response_text))\n",
        "\n",
        "def weather_reply(message):\n",
        "    city = message.text\n",
        "    bot.send_message(message.chat.id, str(get_weather(city)))\n",
        "    #bot.send_message(message.chat.id, 'Выберите тему', reply_markup=get_buttons())\n",
        "\n",
        "def time_reply(message):\n",
        "    city = message.text\n",
        "    bot.send_message(message.chat.id, str(get_time(city)))\n",
        "    #bot.send_message(message.chat.id, 'Выберите тему', reply_markup=get_buttons())\n",
        "\n",
        "def get_weather(city):\n",
        "    gismeteo = Gismeteo()\n",
        "    try:\n",
        "        search_results = gismeteo.search.by_query(city)\n",
        "        city_id = search_results[0].id\n",
        "        current = gismeteo.current.by_id(city_id)\n",
        "        return \"Погода в \" + city + \" \" + str(current.temperature.air.c) + \"С градусов\"\n",
        "    except Exception as ex:\n",
        "        print(ex)\n",
        "        return \"Город \" + city + \" не найден\"\n",
        "\n",
        "def get_time(city):\n",
        "    geo = geopy.geocoders.Nominatim(user_agent=\"SuperMon_Bot\")\n",
        "    location = geo.geocode(city)\n",
        "    try:\n",
        "        tzw = tzwhere.tzwhere()\n",
        "        timezone_str = tzw.tzNameAt(location.latitude, location.longitude)\n",
        "        tz = pytz.timezone(timezone_str)\n",
        "        vremya_goroda = datetime.datetime.now(tz)\n",
        "        return \"Время в городе \" + city + \" \" + str(str(vremya_goroda.hour) + \":\" + str(vremya_goroda.minute)) + \"\"\n",
        "    except Exception as ex:\n",
        "        print(ex)\n",
        "        return \"Город \" + city + \" не найден\"\n",
        "\n",
        "    \n",
        "if __name__ == '__main__':\n",
        "     bot.infinity_polling()"
      ],
      "metadata": {
        "colab": {
          "base_uri": "https://localhost:8080/"
        },
        "id": "G-Bh00X2vzWt",
        "outputId": "7b347451-8683-4b50-9bf3-33e1f293c79e"
      },
      "execution_count": null,
      "outputs": [
        {
          "output_type": "stream",
          "name": "stderr",
          "text": [
            "2023-03-03 20:52:04,848 (__init__.py:966 MainThread) ERROR - TeleBot: \"Infinity polling: polling exited\"\n",
            "ERROR:TeleBot:Infinity polling: polling exited\n",
            "2023-03-03 20:52:04,851 (__init__.py:968 MainThread) ERROR - TeleBot: \"Break infinity polling\"\n",
            "ERROR:TeleBot:Break infinity polling\n"
          ]
        }
      ]
    }
  ]
}