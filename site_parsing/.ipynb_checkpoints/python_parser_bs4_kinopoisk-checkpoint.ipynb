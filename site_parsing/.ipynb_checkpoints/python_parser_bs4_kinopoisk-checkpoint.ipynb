{
 "cells": [
  {
   "cell_type": "markdown",
   "id": "b46db661",
   "metadata": {},
   "source": [
    "# Парсер сайтов\n",
    "## Импорты"
   ]
  },
  {
   "cell_type": "code",
   "execution_count": 58,
   "id": "168b2695",
   "metadata": {
    "ExecuteTime": {
     "end_time": "2022-08-26T05:35:15.123367Z",
     "start_time": "2022-08-26T05:35:15.107119Z"
    }
   },
   "outputs": [],
   "source": [
    "import requests\n",
    "from bs4 import BeautifulSoup as bs\n",
    "import pandas as pd\n",
    "import lxml\n",
    "from time import sleep\n",
    "# from unicodedata import normalize"
   ]
  },
  {
   "cell_type": "markdown",
   "id": "22862af7",
   "metadata": {},
   "source": [
    "## Парсинг"
   ]
  },
  {
   "cell_type": "code",
   "execution_count": 110,
   "id": "3483cd90",
   "metadata": {
    "ExecuteTime": {
     "end_time": "2022-08-26T06:59:32.979527Z",
     "start_time": "2022-08-26T06:59:15.539804Z"
    }
   },
   "outputs": [
    {
     "name": "stdout",
     "output_type": "stream",
     "text": [
      "1\n",
      "200\n",
      "2\n",
      "200\n",
      "3\n",
      "200\n",
      "4\n",
      "200\n",
      "5\n",
      "200\n"
     ]
    }
   ],
   "source": [
    "data = []\n",
    "\n",
    "for page in range(1, 6):\n",
    "    print(page)\n",
    "    \n",
    "    URL = f\"https://www.kinopoisk.ru/lists/movies/top250/?page={page}\"\n",
    "    headers = {\n",
    "        \"Accept\": \"*/*\", \n",
    "        \"User-Agent\": \"Mozilla/5.0 (Windows NT 10.0; Win64; x64) AppleWebKit/537.36 (KHTML, like Gecko) Chrome/104.0.0.0 Safari/537.36\"\n",
    "        }\n",
    "    req = requests.get(URL, headers = headers)\n",
    "    # req = requests.get(URL)\n",
    "    print(req.status_code)\n",
    "    \n",
    "    sleep(3)\n",
    "    \n",
    "    soup = bs(req.text, \"lxml\")\n",
    "    \n",
    "    films = soup.findAll('div', class_='styles_upper__j8BIs')\n",
    "\n",
    "    for film in films:\n",
    "        link = 'https://www.kinopoisk.ru' + film.find('a', class_='base-movie-main-info_link__YwtP1').get('href')\n",
    "        local_name = film.find('div', class_='base-movie-main-info_mainInfo__ZL_u3').text\n",
    "        try:\n",
    "            original_name, year, length = film.find('span', class_='desktop-list-main-info_secondaryText__M_aus').text.replace(u'\\xa0', u' ').split(', ')\n",
    "        except:\n",
    "            original_name = local_name\n",
    "        data_group_parse = film.findAll('span', class_='desktop-list-main-info_truncatedText__IMQRP')\n",
    "        bunch = data_group_parse[0].text.replace(u'\\xa0\\xa0', u' ').replace(' • ', ' ').split(' ')\n",
    "        if bunch[0] == 'Новая':\n",
    "            country = bunch[0] + ' ' + bunch[1]\n",
    "            film_type = bunch[2]\n",
    "            director = bunch[4] + ' ' + bunch[5]\n",
    "        else:\n",
    "            country = bunch[0]\n",
    "            film_type = bunch[1]\n",
    "            director = bunch[3] + ' ' + bunch[4]\n",
    "        cast = data_group_parse[1].text.replace('В ролях: ', '')\n",
    "        rate = film.find('span', class_='styles_kinopoiskValue__9qXjg').text\n",
    "    #     country_bunch = film.findAll('img', class_='countries_flag__5cI2E')\n",
    "    #     for c in country_bunch:\n",
    "    #         country = c.get('alt')\n",
    "\n",
    "\n",
    "        data.append([link, local_name, original_name, year, length, film_type, director, cast, country, rate])"
   ]
  },
  {
   "cell_type": "code",
   "execution_count": 129,
   "id": "1b5bc7fc",
   "metadata": {
    "ExecuteTime": {
     "end_time": "2022-08-26T08:57:03.758423Z",
     "start_time": "2022-08-26T08:56:46.208889Z"
    },
    "scrolled": true
   },
   "outputs": [
    {
     "name": "stdout",
     "output_type": "stream",
     "text": [
      "1\n",
      "200\n",
      "2\n",
      "200\n",
      "3\n",
      "200\n",
      "4\n",
      "200\n",
      "5\n",
      "200\n"
     ]
    }
   ],
   "source": [
    "# data = []\n",
    "\n",
    "html = None\n",
    "\n",
    "for page in range(1, 6):\n",
    "    print(page)\n",
    "    \n",
    "    URL = f\"https://www.kinopoisk.ru/lists/movies/top250/?page={page}\"\n",
    "    headers = {\n",
    "        \"Accept\": \"*/*\", \n",
    "        \"User-Agent\": \"Mozilla/5.0 (Windows NT 10.0; Win64; x64) AppleWebKit/537.36 (KHTML, like Gecko) Chrome/104.0.0.0 Safari/537.36\"\n",
    "        }\n",
    "    req = requests.get(URL, headers = headers)\n",
    "    # req = requests.get(URL)\n",
    "    print(req.status_code)\n",
    "    \n",
    "    soup = bs(req.text, \"lxml\")\n",
    "    \n",
    "    sleep(3)\n",
    "    \n",
    "    with open(\"kinopoisk_top250.html\", \"a\", encoding='utf-8') as file:\n",
    "        file.write(soup.text)\n",
    "    \n",
    "\n",
    "\n",
    "#     films = soup.findAll('div', class_='styles_upper__j8BIs')\n",
    "\n",
    "#     for film in films:\n",
    "#         link = 'https://www.kinopoisk.ru' + film.find('a', class_='base-movie-main-info_link__YwtP1').get('href')\n",
    "#         local_name = film.find('div', class_='base-movie-main-info_mainInfo__ZL_u3').text\n",
    "#         try:\n",
    "#             original_name, year, length = film.find('span', class_='desktop-list-main-info_secondaryText__M_aus').text.replace(u'\\xa0', u' ').split(', ')\n",
    "#         except:\n",
    "#             original_name = local_name\n",
    "#         data_group_parse = film.findAll('span', class_='desktop-list-main-info_truncatedText__IMQRP')\n",
    "#         bunch = data_group_parse[0].text.replace(u'\\xa0\\xa0', u' ').replace(' • ', ' ').split(' ')\n",
    "#         if bunch[0] == 'Новая':\n",
    "#             country = bunch[0] + ' ' + bunch[1]\n",
    "#             film_type = bunch[2]\n",
    "#             director = bunch[4] + ' ' + bunch[5]\n",
    "#         else:\n",
    "#             country = bunch[0]\n",
    "#             film_type = bunch[1]\n",
    "#             director = bunch[3] + ' ' + bunch[4]\n",
    "#         cast = data_group_parse[1].text.replace('В ролях: ', '')\n",
    "#         rate = film.find('span', class_='styles_kinopoiskValue__9qXjg').text\n",
    "#     #     country_bunch = film.findAll('img', class_='countries_flag__5cI2E')\n",
    "#     #     for c in country_bunch:\n",
    "#     #         country = c.get('alt')\n",
    "\n",
    "\n",
    "#         data.append([link, local_name, original_name, year, length, film_type, director, cast, country, rate])"
   ]
  },
  {
   "cell_type": "code",
   "execution_count": 152,
   "id": "69b59887",
   "metadata": {
    "ExecuteTime": {
     "end_time": "2022-08-26T09:16:00.423757Z",
     "start_time": "2022-08-26T09:15:59.903688Z"
    }
   },
   "outputs": [
    {
     "name": "stdout",
     "output_type": "stream",
     "text": [
      "200\n",
      "<!DOCTYPE html>\n",
      "<html prefix=\"og: http://ogp.me/ns#\"><head><meta content=\"IE=edge\" http-equiv=\"X-UA-Compatible\"/><meta charset=\"utf-8\"/><meta content=\"width=device-width,initial-scale=1\" name=\"viewport\"/><title data-react-helmet=\"true\">ÐÐ¹!</title><meta content=\"Ð¯Ð½Ð´ÐµÐºÑ\" data-react-helmet=\"true\" property=\"og:title\"/><meta content=\"ÐÐ°Ð¹Ð´ÑÑÑÑ Ð²ÑÑ\" data-react-helmet=\"true\" property=\"og:description\"/><meta content=\"https://yastatic.net/s3/home-static/_/37/37a02b5dc7a51abac55d8a5b6c865f0e.png\" data-react-helmet=\"true\" property=\"og:image\"/><link href=\"/captcha_smart.5205103d27eb76a58bbb.min.css?k=1657871267302\" rel=\"stylesheet\"/><style>@media only screen and (min-width:651px){body{background-image:url('https://captcha-backgrounds.s3.yandex.net/static/kinopoisk-background.jpg')}}.LogoLink{background-image:url('data:image/svg+xml;base64,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')}</style></head><body><div id=\"root\"><div class=\"Theme Theme_color_yandex-default Theme_root_default\"><div class=\"Container\"><div class=\"Spacer\" style=\"padding-bottom:40px\"><a class=\"Link Link_view_default LogoLink\" href=\"https://kinopoisk.ru\" title=\"Kinopoisk\"></a></div><form action=\"/checkcaptcha?key=f0a5edea-13db59f7-8d354d4d-382acd98_2%2F1661505356%2F03d3fd7e58ded51567ccbcb22bcc5d11_6b41e67362b9c63b2e6d9e8c4dfb5048&amp;retpath=aHR0cHM6Ly93d3cua2lub3BvaXNrLnJ1L2xpc3RzL21vdmllcy90b3AyNTA_cGFnZT0x_b219a57c7e387d06ec2a9fd5211ef1db&amp;u=1469be38-4afac16f-aee0aeb1-1b070561\" method=\"POST\"><div class=\"Spacer\" style=\"padding-bottom:16px\"><span class=\"Text Text_weight_medium Text_typography_headline-s\">ÐÐ¾Ð´ÑÐ²ÐµÑÐ´Ð¸ÑÐµ, ÑÑÐ¾ Ð·Ð°Ð¿ÑÐ¾ÑÑ Ð¾ÑÐ¿ÑÐ°Ð²Ð»ÑÐ»Ð¸ Ð²Ñ, Ð° Ð½Ðµ ÑÐ¾Ð±Ð¾Ñ</span></div><span class=\"Text Text_weight_regular Text_typography_body-long-m\">ÐÐ°Ð¼ Ð¾ÑÐµÐ½Ñ Ð¶Ð°Ð»Ñ, Ð½Ð¾ Ð·Ð°Ð¿ÑÐ¾ÑÑ Ñ Ð²Ð°ÑÐµÐ³Ð¾ ÑÑÑÑÐ¾Ð¹ÑÑÐ²Ð° Ð¿Ð¾Ñ",
      "Ð¾Ð¶Ð¸ Ð½Ð° Ð°Ð²ÑÐ¾Ð¼Ð°ÑÐ¸ÑÐµÑÐºÐ¸Ðµ.Â <a class=\"Link Link_view_default\" href=\"https://yandex.ru/support/smart-captcha?unique_key=1469be38-4afac16f-aee0aeb1-1b070561\">ÐÐ¾ÑÐµÐ¼Ñ ÑÑÐ¾ Ð¼Ð¾Ð³Ð»Ð¾ Ð¿ÑÐ¾Ð¸Ð·Ð¾Ð¹ÑÐ¸?</a></span><div class=\"Spacer Spacer_auto-gap_bottom\" style=\"padding-top:40px;padding-bottom:40px\"><div class=\"CheckboxCaptcha\" data-testid=\"checkbox-captcha\"><div class=\"CheckboxCaptcha-Inner\"><div class=\"CheckboxCaptcha-Anchor\"><input aria-checked=\"false\" aria-labelledby=\"smartcaptcha-status\" class=\"CheckboxCaptcha-Button\" role=\"checkbox\" type=\"submit\"/><div class=\"CheckboxCaptcha-Checkbox\" data-checked=\"false\"><svg class=\"SvgIcon\" fill=\"none\" height=\"24\" viewbox=\"0 0 24 25\" width=\"24\"><path d=\"M4 12.5L9.5 18.5L20 6.5\" stroke=\"#000\" stroke-linecap=\"round\" stroke-linejoin=\"round\" stroke-width=\"3\"></path></svg></div></div><div class=\"CheckboxCaptcha-Label\"><span class=\"Text Text_weight_regular Text_typography_control-xxl CheckboxCaptcha-LabelText\">Ð¯ Ð½Ðµ ÑÐ¾Ð±Ð¾Ñ</span><span class=\"Text Text_color_control-secondary Text_weight_regular Text_typography_control-l\">ÐÐ°Ð¶Ð¼Ð¸ÑÐµ, ÑÑÐ¾Ð±Ñ Ð¿ÑÐ¾Ð´Ð¾Ð»Ð¶Ð¸ÑÑ</span><span class=\"Text Text_color_ghost Text_weight_regular Text_typography_control-s CheckboxCaptcha-Link\"><a aria-describedby=\"connect-link-description\" class=\"Link Link_view_captcha\" href=\"https://cloud.yandex.ru/docs/smartcaptcha/\" target=\"_blank\">ÐÐ¾Ð´ÑÐ¾Ð±Ð½ÐµÐµ</a><div class=\"visuallyhidden\" id=\"connect-link-description\">Ð¡Ð°Ð¹Ñ Ñ Ð¸Ð½ÑÐ¾ÑÐ¼Ð°ÑÐ¸ÐµÐ¹ Ð¾ Ð¿ÑÐ¾ÐµÐºÑÐµ SmartCaptcha</div></span></div><div class=\"CheckboxCaptcha-Status visuallyhidden\" id=\"smartcaptcha-status\">SmartCaptcha Ð½ÑÐ¶Ð½Ð° Ð¿ÑÐ¾Ð²ÐµÑÐºÐ° Ð¿Ð¾Ð»ÑÐ·Ð¾Ð²Ð°ÑÐµÐ»Ñ</div></div></div></div><span class=\"Text Text_color_ghost Text_weight_regular Text_typography_control-xs\">ÐÑÐ»Ð¸ Ñ Ð²Ð°Ñ Ð²Ð¾Ð·Ð½Ð¸ÐºÐ»Ð¸ Ð¿ÑÐ¾Ð±Ð»ÐµÐ¼Ñ, Ð¿Ð¾Ð¶Ð°Ð»ÑÐ¹ÑÑÐ°, Ð²Ð¾ÑÐ¿Ð¾Ð»ÑÐ·ÑÐ¹ÑÐµÑÑÂ <a class=\"Link Link_view_default\" href=\"https://yandex.ru/support/smart-captcha?unique_key=1469be38-4afac16f-aee0aeb1-1b070561#help\">ÑÐ¾ÑÐ¼Ð¾Ð¹ Ð¾Ð±ÑÐ°ÑÐ½Ð¾Ð¹ ÑÐ²ÑÐ·Ð¸</a></span><input name=\"rdata\" type=\"hidden\"/><input name=\"aesKey\" type=\"hidden\"/><input name=\"signKey\" type=\"hidden\"/></form></div></div></div> <script>window.__SSR_DATA__={url:\"/ru/checkbox\",reqId:\"\",uniqueKey:\"1469be38-4afac16f-aee0aeb1-1b070561\",invalid:\"no\",formAction:\"/checkcaptcha?key=f0a5edea-13db59f7-8d354d4d-382acd98_2%2F1661505356%2F03d3fd7e58ded51567ccbcb22bcc5d11_6b41e67362b9c63b2e6d9e8c4dfb5048&retpath=aHR0cHM6Ly93d3cua2lub3BvaXNrLnJ1L2xpc3RzL21vdmllcy90b3AyNTA_cGFnZT0x_b219a57c7e387d06ec2a9fd5211ef1db&u=1469be38-4afac16f-aee0aeb1-1b070561\",captchaKey:\"f0a5edea-13db59f7-8d354d4d-382acd98_2/1661505356/03d3fd7e58ded51567ccbcb22bcc5d11_6b41e67362b9c63b2e6d9e8c4dfb5048\",imageSrc:\"\",voiceSrc:\"\",introSrc:\"\",aesKey:\"9bGECYBOkC9UjJJZNk6yyM7DRaLLIGNZHhptPug3y5c=\",aesSign:\"1_1661505356_16341663591810254726_154afacc516a4dfcd81a99ed13fc1dfd\"}</script><script crossorigin=\"\" src=\"/captcha_smart_error.5205103d27eb76a58bbb.min.js?k=1657871267302\"></script><script crossorigin=\"\" src=\"https://yastatic.net/react/16.8.4/react-with-dom-and-polyfills.min.js\"></script><script crossorigin=\"\" src=\"/captcha_smart.5205103d27eb76a58bbb.min.js?k=1657871267302\"></script><script>!function(e,n,t,a,c){e.ym=e.ym||function(){(e.ym.a=e.ym.a||[]).push(arguments)},e.ym.l=+new Date,a=n.createElement(t),c=n.getElementsByTagName(t)[0],a.async=1,a.src=\"https://mc.yandex.ru/metrika/tag.js\",c.parentNode.insertBefore(a,c)}(window,document,\"script\"),ym(10630330,\"init\",{clickmap:!0,trackLinks:!0,accurateTrackBounce:!0,webvisor:!0,ut:\"noindex\",params:{req_id:\"\",unique_key:\"1469be38-4afac16f-aee0aeb1-1b070561\"}})</script><noscript><div><img alt=\"\" src=\"https://mc.yandex.ru/watch/10630330?ut=noindex\" style=\"position:absolute;left:-9999px\"/></div></noscript><div><img alt=\"\" src=\"https://adfstat.yandex.ru/captcha?req_id=&amp;unique_key=1469be38-4afac16f-aee0aeb1-1b070561\" style=\"position:absolute;left:-9999px\"/></div></body></html>\n"
     ]
    }
   ],
   "source": [
    "URL = 'https://www.kinopoisk.ru/lists/movies/top250/?page=1'\n",
    "headers = {\n",
    "    \"Accept\": \"*/*\", \n",
    "     \"User-Agent\": \"Mozilla/5.0 (Windows NT 10.0; Win64; x64) AppleWebKit/537.36 (KHTML, like Gecko) Chrome/104.0.0.0 Safari/537.36\"\n",
    "    }\n",
    "req = requests.get(URL, headers = headers)\n",
    "    # req = requests.get(URL)\n",
    "print(req.status_code)\n",
    " \n",
    "soup = bs(req.text, \"lxml\")\n",
    "print(soup)"
   ]
  },
  {
   "cell_type": "code",
   "execution_count": 127,
   "id": "8e147b7e",
   "metadata": {
    "ExecuteTime": {
     "end_time": "2022-08-26T08:54:38.852667Z",
     "start_time": "2022-08-26T08:54:38.828696Z"
    }
   },
   "outputs": [],
   "source": [
    "with open(\"kinopoisk_top250_page_extraction.html\", \"a\", encoding='utf-8') as file:\n",
    "        file.write(soup.text)"
   ]
  },
  {
   "cell_type": "code",
   "execution_count": null,
   "id": "cf8ce89a",
   "metadata": {},
   "outputs": [],
   "source": []
  },
  {
   "cell_type": "code",
   "execution_count": 145,
   "id": "b28f3152",
   "metadata": {
    "ExecuteTime": {
     "end_time": "2022-08-26T09:13:20.878608Z",
     "start_time": "2022-08-26T09:13:20.862520Z"
    }
   },
   "outputs": [],
   "source": [
    "with open(\"kinopoisk_top250_page_extraction.html\", encoding='utf-8') as file:\n",
    "    src = file.read()"
   ]
  },
  {
   "cell_type": "code",
   "execution_count": 150,
   "id": "41310305",
   "metadata": {
    "ExecuteTime": {
     "end_time": "2022-08-26T09:15:06.917393Z",
     "start_time": "2022-08-26T09:15:06.902380Z"
    }
   },
   "outputs": [
    {
     "data": {
      "text/plain": [
       "\"250 лучших фильмов — КинопоискГлавнаяОнлайн-кинотеатрФильмыСериалыБилеты в киноМедиаОнлайн-кинотеатрУстановить на ТВНайтиПопробовать ПлюсВойтиВсе спискиТоп 250 фильмов Топ 250 сериаловОнлайн-кинотеатрНавигаторФильмыСериалыС высоким рейтингомРоссийскиеЗарубежныеВышедшиеСкрыть просмотренныеСтраныВсе страныЖанрыВсе жанрыГодыВсе годы250 лучших фильмовРейтинг составлен по результатам голосования посетителей сайта. Любой желающий может принять в нем участие, проголосовав за свой любимый фильм.Как формируется рейтингОнлайн209\\xa0фильмовВсе250\\xa0фильмовПо порядку19.1Зеленая миляThe Green Mile, 1999, 189\\xa0мин.США • драма\\xa0\\xa0Режиссёр: Фрэнк ДарабонтВ ролях: Том Хэнкс, Дэвид Морс9.217 702Топ 250: 1Буду смотретьПо подписке Плюс Мульти28.8Список ШиндлераSchindler's List, 1993, 195\\xa0мин.США • драма\\xa0\\xa0Режиссёр: Стивен СпилбергВ ролях: Лиам Нисон, Бен Кингсли9.013 689Топ 250: 2Буду смотретьПо подписке Плюс Мульти39.1Побег из ШоушенкаThe Shawshank Redemption, 1994, 142\\xa0мин.США • драма\\xa0\\xa0Режиссёр: Фрэнк ДарабонтВ ролях: Тим Роббинс, Морган Фриман9.012 746Топ 250: 3Буду смотреть48.9Форрест ГампForrest Gump, 1994, 142\\xa0мин.США • драма\\xa0\\xa0Режиссёр: Роберт ЗемекисВ ролях: Том Хэнкс, Робин Райт8.919 194Топ 250: 4Буду смотретьПо подписке Плюс Мульти58.6Властелин колец: Возвращение короляThe Lord of the Rings: The Return of the King, 2003, 201\\xa0мин.Новая Зеландия • фэнтези\\xa0\\xa0Режиссёр: Питер ДжексонВ ролях: Элайджа Вуд, Вигго Мортенсен8.911 930Топ 250: 5Буду смотреть68.6Властелин колец: Братство КольцаThe Lord of the Rings: The Fellowship of the Ring, 2001, 178\\xa0мин.Новая Зеландия • фэнтези\\xa0\\xa0Режиссёр: Питер ДжексонВ ролях: Элайджа Вуд, Иэн Маккеллен8.813 445Топ 250: 6Буду смотреть78.6Властелин колец: Две крепостиThe Lord of the Rings: The Two Towers, 2002, 179\\xa0мин.Новая Зеландия • фэнтези\\xa0\\xa0Режиссёр: Питер ДжексонВ ролях: Элайджа Вуд, Иэн Маккеллен8.812 407Топ 250: 7Буду смотреть88.81+1Intouchables, 2011, 112\\xa0мин.Франция • драма\\xa0\\xa0Режиссёр: Оливье НакашВ ролях: Франсуа Клюзе, Омар Си8.815 550Топ 250: 8Буду смотреть98.6Криминальное чтивоPulp Fiction, 1994, 154\\xa0мин.США • криминал\\xa0\\xa0Режиссёр: Квентин ТарантиноВ ролях: Джон Траволта, Сэмюэл Л. Джексон8.818 710Топ 250: 9Буду смотретьПо подписке Плюс Мульти108.6ИнтерстелларInterstellar, 2014, 169\\xa0мин.США • фантастика\\xa0\\xa0Режиссёр: Кристофер НоланВ ролях: Мэттью МакКонахи, Энн Хэтэуэй8.815 518Топ 250: 10Буду смотреть118.7Тайна КокоCoco, 2017, 105\\xa0мин.США • мультфильм\\xa0\\xa0Режиссёр: Ли АнкричВ ролях: Энтони Гонсалес, Гаэль Гарсиа Берналь8.820 339Топ 250: 11Буду смотретьПо подписке Плюс Мульти128.6Назад в будущееBack to the Future, 1985, 116\\xa0мин.США • фантастика\\xa0\\xa0Режиссёр: Роберт ЗемекисВ ролях: Майкл Дж. Фокс, Кристофер Ллойд8.816 260Топ 250: 12Буду смотретьПо подписке Плюс Мульти138.8Иван Васильевич меняет профессию1973, 88\\xa0мин.СССР • комедия\\xa0\\xa0Режиссёр: Леонид ГайдайВ ролях: Александр Демьяненко, Юрий Яковлев8.711 556Топ 250: 13Буду смотретьПо подписке Плюс Мульти148.8Король ЛевThe Lion King, 1994, 88\\xa0мин.США • мультфильм\\xa0\\xa0Режиссёр: Роджер АллерсВ ролях: Мэттью Бродерик, Джереми Айронс8.712 886Топ 250: 14Буду смотретьПо подписке Плюс Мульти158.5Темный рыцарьThe Dark Knight, 2008, 152\\xa0мин.США • фантастика\\xa0\\xa0Режиссёр: Кристофер НоланВ ролях: Кристиан Бэйл, Хит Леджер8.723 441Топ 250: 15Буду смотретьПо подписке Плюс Мульти168.6Бойцовский клубFight Club, 1999, 139\\xa0мин.США • триллер\\xa0\\xa0Режиссёр: Дэвид ФинчерВ ролях: Эдвард Нортон, Брэд Питт8.714 890Топ 250: 16Буду смотреть178.5Унесённые призракамиSen to Chihiro no kamikakushi, 2001, 125\\xa0мин.Япония • аниме\\xa0\\xa0Режиссёр: Хаяо МиядзакиВ ролях: Руми Хиираги, Мию Ирино8.713 258Топ 250: 17Буду смотретьот 99 ₽188.6ГладиаторGladiator, 2000, 155\\xa0мин.США • история\\xa0\\xa0Режиссёр: Ридли СкоттВ ролях: Рассел Кроу, Хоакин Феникс8.716 533Топ 250: 18Буду смотретьПо подписке Плюс Мульти198.3ВАЛЛ·ИWALL·E, 2008, 98\\xa0мин.США • мультфильм\\xa0\\xa0Режиссёр: Эндрю СтэнтонВ ролях: Бен Бертт, Элисса Найт8.717 430Топ 250: 19Буду смотретьПо подписке Плюс Мульти208.7НачалоInception, 2010, 148\\xa0мин.США • фантастика\\xa0\\xa0Режиссёр: Кристофер НоланВ ролях: Леонардо ДиКаприо, Джозеф Гордон-Левитт8.713 955Топ 250: 20Буду смотреть218.1ШрэкShrek, 2001, 90\\xa0мин.США • мультфильм\\xa0\\xa0Режиссёр: Эндрю АдамсонВ ролях: Майк Майерс, Эдди Мерфи8.621 992Топ 250: 21Буду смотретьПо подписке Плюс Мульти2228.6Приключения Шерлока Холмса и доктора Ватсона: Собака Баскервилей1981, 154\\xa0мин.СССР • детектив\\xa0\\xa0Режиссёр: Игорь МасленниковВ ролях: Василий Ливанов, Виталий Соломин8.65 532Топ 250: 22Буду смотретьПо подписке Плюс Мульти238.4Москва слезам не верит1979, 150\\xa0мин.СССР • мелодрама\\xa0\\xa0Режиссёр: Владимир МеньшовВ ролях: Вера Алентова, Ирина Муравьёва8.611 376Топ 250: 23Буду смотретьПо подписке Плюс Мульти2428.5Джентльмены удачи1971, 84\\xa0мин.СССР • комедия\\xa0\\xa0Режиссёр: Александр СерыйВ ролях: Евгений Леонов, Георгий Вицин8.69 071Топ 250: 24Буду смотретьПо подписке Плюс Мульти258.5...А зори здесь тихие1972, 160\\xa0мин.СССР • драма\\xa0\\xa0Режиссёр: Станислав РостоцкийВ ролях: Елена Драпеко, Екатерина Маркова8.64 059Топ 250: 25Буду смотретьПо подписке Плюс Мульти2618.5Большой кушSnatch, 2000, 104\\xa0мин.Великобритания • криминал\\xa0\\xa0Режиссёр: Гай РичиВ ролях: Джейсон Стэйтем, Стивен Грэм8.610 990Топ 250: 26Буду смотретьот 199 ₽2718.6Карты, деньги, два стволаLock, Stock and Two Smoking Barrels, 1998, 107\\xa0мин.Великобритания • боевик\\xa0\\xa0Режиссёр: Гай РичиВ ролях: Джейсон Флеминг, Декстер Флетчер8.613 712Топ 250: 27Буду смотретьот 119 ₽288.5Остров проклятыхShutter Island, 2009, 138\\xa0мин.США • триллер\\xa0\\xa0Режиссёр: Мартин СкорсезеВ ролях: Леонардо ДиКаприо, Марк Руффало8.621 416Топ 250: 28Буду смотретьПо подписке Плюс Мульти298.4Пираты Карибского моря: Проклятие Черной жемчужиныPirates of the Caribbean: The Curse of the Black Pearl, 2003, 143\\xa0мин.США • фэнтези\\xa0\\xa0Режиссёр: Гор ВербинскиВ ролях: Джонни Депп, Джеффри Раш8.621 879Топ 250: 29Буду смотретьПо подписке Плюс Мульти308.6Достучаться до небесKnockin' on Heaven's Door, 1997, 87\\xa0мин.Германия • драма\\xa0\\xa0Режиссёр: Томас ЯнВ ролях: Тиль Швайгер, Ян Йозеф Лиферс8.612 058Топ 250: 30Буду смотреть318.5Поймай меня, если сможешьCatch Me If You Can, 2002, 141\\xa0мин.США • криминал\\xa0\\xa0Режиссёр: Стивен СпилбергВ ролях: Леонардо ДиКаприо, Том Хэнкс8.624 563Топ 250: 31Буду смотретьПо подписке Плюс Мульти328.7В бой идут одни «старики»1973, 87\\xa0мин.СССР • военный\\xa0\\xa0Режиссёр: Леонид БыковВ ролях: Леонид Быков, Сергей Подгорный8.64 070Топ 250: 32Буду смотреть338.3Остров сокровищ1988, 107\\xa0мин.СССР • мультфильм\\xa0\\xa0Режиссёр: Давид ЧеркасскийВ ролях: Владимир Заднепровский, Евгений Паперный8.69 196Топ 250: 33Буду смотретьПо подписке Плюс Мульти348.6КлаусKlaus, 2019, 96\\xa0мин.Испания • мультфильм\\xa0\\xa0Режиссёр: Серхио ПаблосВ ролях: Джейсон Шварцман, Дж.К. Симмонс8.59 354Топ 250: 34Буду смотреть3518.4Они сражались за Родину1975, 160\\xa0мин.СССР • драма\\xa0\\xa0Режиссёр: Сергей БондарчукВ ролях: Василий Шукшин, Вячеслав Тихонов8.53 448Топ 250: 35Буду смотретьПо подписке Плюс Мульти3618.5МатрицаThe Matrix, 1999, 136\\xa0мин.США • фантастика\\xa0\\xa0Режиссёр: Лана ВачовскиВ ролях: Киану Ривз, Лоренс Фишбёрн8.519 608Топ 250: 36Буду смотреть378.3Брат1997, 100\\xa0мин.Россия • драма\\xa0\\xa0Режиссёр: Алексей БалабановВ ролях: Сергей Бодров мл., Виктор Сухоруков8.523 457Топ 250: 37Буду смотретьПо подписке Плюс Мульти388.6Жизнь прекраснаLa vita è bella, 1997, 116\\xa0мин.Италия • военный\\xa0\\xa0Режиссёр: Роберто БениньиВ ролях: Роберто Бениньи, Николетта Браски8.53 805Топ 250: 38Буду смотреть398.2ПрислугаThe Help, 2011, 146\\xa0мин.США • драма\\xa0\\xa0Режиссёр: Тейт ТейлорВ ролях: Эмма Стоун, Виола Дэвис8.518 255Топ 250: 39Буду смотретьПо подписке Плюс Мульти408.1По соображениям совестиHacksaw Ridge, 2016, 139\\xa0мин.Австралия • биография\\xa0\\xa0Режиссёр: Мэл ГибсонВ ролях: Эндрю Гарфилд, Сэм Уортингтон8.521 528Топ 250: 40Буду смотретьПо подписке Плюс Мульти418.5ДжентльменыThe Gentlemen, 2019, 113\\xa0мин.Великобритания • криминал\\xa0\\xa0Режиссёр: Гай РичиВ ролях: Мэттью МакКонахи, Чарли Ханнэм8.531 729Топ 250: 41Буду смотретьПо подписке Плюс Мульти428.3Ходячий замокHauru no ugoku shiro, 2004, 119\\xa0мин.Япония • аниме\\xa0\\xa0Режиссёр: Хаяо МиядзакиВ ролях: Тиэко Байсё, Такуя Кимура8.511 489Топ 250: 42Буду смотретьот 99 ₽438.7Крестный отецThe Godfather, 1972, 175\\xa0мин.США • драма\\xa0\\xa0Режиссёр: Фрэнсис Форд КопполаВ ролях: Марлон Брандо, Аль Пачино8.59 301Топ 250: 43Буду смотретьот 169 ₽448.4ТитаникTitanic, 1997, 194\\xa0мин.США • мелодрама\\xa0\\xa0Режиссёр: Джеймс КэмеронВ ролях: Леонардо ДиКаприо, Кейт Уинслет8.516 992Топ 250: 44Буду смотретьПо подписке Плюс Мульти458.2Гарри Поттер и философский каменьHarry Potter and the Sorcerer's Stone, 2001, 152\\xa0мин.Великобритания • фэнтези\\xa0\\xa0Режиссёр: Крис КоламбусВ ролях: Дэниэл Рэдклифф, Руперт Гринт8.516 299Топ 250: 45Буду смотретьПо подписке Плюс Мульти с Амедиатекой468.2Гарри Поттер и узник АзкабанаHarry Potter and the Prisoner of Azkaban, 2004, 142\\xa0мин.Великобритания • фэнтези\\xa0\\xa0Режиссёр: Альфонсо КуаронВ ролях: Дэниэл Рэдклифф, Руперт Гринт8.516 509Топ 250: 46Буду смотретьПо подписке Плюс Мульти с Амедиатекой478.7ЛеонLéon, 1994, 133\\xa0мин.Франция • боевик\\xa0\\xa0Режиссёр: Люк БессонВ ролях: Жан Рено, Натали Портман8.510 844Топ 250: 47Буду смотреть488.2Джанго освобожденныйDjango Unchained, 2012, 165\\xa0мин.США • вестерн\\xa0\\xa0Режиссёр: Квентин ТарантиноВ ролях: Джейми Фокс, Кристоф Вальц8.522 690Топ 250: 48Буду смотретьПо подписке Плюс Мульти498.7Операция «Ы» и другие приключения Шурика1965, 95\\xa0мин.СССР • комедия\\xa0\\xa0Режиссёр: Леонид ГайдайВ ролях: Александр Демьяненко, Наталья Селезнёва8.511 252Топ 250: 49Буду смотретьПо подписке Плюс Мульти508.2Брат 22000, 127\\xa0мин.Россия • боевик\\xa0\\xa0Режиссёр: Алексей БалабановВ ролях: Сергей Бодров мл., Виктор Сухоруков8.519 386Топ 250: 50Буду смотретьПо подписке Плюс Мульти12345ВакансииРекламаСоглашениеСправкаБлогУчастие в исследованияхПредложенияСлужба поддержки©\\xa02003 — 2022,Кинопоиск18+Yandex Service AGТелепрограммаМузыкаАфишаПроект компанииЯндекс\""
      ]
     },
     "execution_count": 150,
     "metadata": {},
     "output_type": "execute_result"
    }
   ],
   "source": [
    "src"
   ]
  },
  {
   "cell_type": "code",
   "execution_count": 147,
   "id": "074ddcdd",
   "metadata": {
    "ExecuteTime": {
     "end_time": "2022-08-26T09:14:32.077798Z",
     "start_time": "2022-08-26T09:14:32.058848Z"
    }
   },
   "outputs": [],
   "source": [
    "soup = bs(src, 'lxml')"
   ]
  },
  {
   "cell_type": "code",
   "execution_count": 148,
   "id": "d6ec8dbb",
   "metadata": {
    "ExecuteTime": {
     "end_time": "2022-08-26T09:14:34.846942Z",
     "start_time": "2022-08-26T09:14:34.836969Z"
    }
   },
   "outputs": [],
   "source": [
    "data = []\n",
    "\n",
    "films = soup.findAll('div', class_='styles_upper__j8BIs')\n",
    "\n",
    "for film in films:\n",
    "    link = 'https://www.kinopoisk.ru' + film.find('a', class_='base-movie-main-info_link__YwtP1').get('href')\n",
    "    local_name = film.find('div', class_='base-movie-main-info_mainInfo__ZL_u3').text\n",
    "    try:\n",
    "        original_name, year, length = film.find('span', class_='desktop-list-main-info_secondaryText__M_aus').text.replace(u'\\xa0', u' ').split(', ')\n",
    "    except:\n",
    "        original_name = local_name\n",
    "    data_group_parse = film.findAll('span', class_='desktop-list-main-info_truncatedText__IMQRP')\n",
    "    bunch = data_group_parse[0].text.replace(u'\\xa0\\xa0', u' ').replace(' • ', ' ').split(' ')\n",
    "    if bunch[0] == 'Новая':\n",
    "        country = bunch[0] + ' ' + bunch[1]\n",
    "        film_type = bunch[2]\n",
    "        director = bunch[4] + ' ' + bunch[5]\n",
    "    else:\n",
    "        country = bunch[0]\n",
    "        film_type = bunch[1]\n",
    "        director = bunch[3] + ' ' + bunch[4]\n",
    "    cast = data_group_parse[1].text.replace('В ролях: ', '')\n",
    "    rate = film.find('span', class_='styles_kinopoiskValue__9qXjg').text\n",
    "#     country_bunch = film.findAll('img', class_='countries_flag__5cI2E')\n",
    "#     for c in country_bunch:\n",
    "#         country = c.get('alt')\n",
    "\n",
    "\n",
    "    data.append([link, local_name, original_name, year, length, film_type, director, cast, country, rate])"
   ]
  },
  {
   "cell_type": "code",
   "execution_count": 149,
   "id": "4d2a0f74",
   "metadata": {
    "ExecuteTime": {
     "end_time": "2022-08-26T09:14:38.580194Z",
     "start_time": "2022-08-26T09:14:38.576220Z"
    }
   },
   "outputs": [
    {
     "name": "stdout",
     "output_type": "stream",
     "text": [
      "[]\n"
     ]
    }
   ],
   "source": [
    "print(data)"
   ]
  },
  {
   "cell_type": "code",
   "execution_count": null,
   "id": "a4076144",
   "metadata": {},
   "outputs": [],
   "source": []
  },
  {
   "cell_type": "code",
   "execution_count": 102,
   "id": "f99b91e9",
   "metadata": {
    "ExecuteTime": {
     "end_time": "2022-08-26T06:28:02.650263Z",
     "start_time": "2022-08-26T06:28:02.642168Z"
    }
   },
   "outputs": [
    {
     "data": {
      "text/plain": [
       "0"
      ]
     },
     "execution_count": 102,
     "metadata": {},
     "output_type": "execute_result"
    }
   ],
   "source": [
    "len(data)"
   ]
  },
  {
   "cell_type": "code",
   "execution_count": 112,
   "id": "0540132d",
   "metadata": {
    "ExecuteTime": {
     "end_time": "2022-08-26T07:00:25.830405Z",
     "start_time": "2022-08-26T07:00:25.818446Z"
    }
   },
   "outputs": [
    {
     "data": {
      "text/plain": [
       "[]"
      ]
     },
     "execution_count": 112,
     "metadata": {},
     "output_type": "execute_result"
    }
   ],
   "source": [
    "data"
   ]
  },
  {
   "cell_type": "code",
   "execution_count": null,
   "id": "a2a95393",
   "metadata": {},
   "outputs": [],
   "source": []
  },
  {
   "cell_type": "code",
   "execution_count": 35,
   "id": "eeb012a9",
   "metadata": {
    "ExecuteTime": {
     "end_time": "2022-08-26T05:01:30.875931Z",
     "start_time": "2022-08-26T05:01:30.861950Z"
    }
   },
   "outputs": [],
   "source": [
    "# cvb = soup.findAll('img', class_='countries_flag__5cI2E')\n",
    "\n",
    "# df = []\n",
    "\n",
    "# for cn in cvb:\n",
    "#     cn.get('alt')\n",
    "#     df.append([cn])\n",
    "    \n",
    "# df\n",
    "\n",
    "# cvb"
   ]
  },
  {
   "cell_type": "code",
   "execution_count": null,
   "id": "65437642",
   "metadata": {},
   "outputs": [],
   "source": []
  },
  {
   "cell_type": "markdown",
   "id": "8b3a5d4c",
   "metadata": {},
   "source": [
    "## Сохранение результата"
   ]
  },
  {
   "cell_type": "code",
   "execution_count": null,
   "id": "101f911f",
   "metadata": {},
   "outputs": [],
   "source": []
  },
  {
   "cell_type": "code",
   "execution_count": null,
   "id": "306b2a77",
   "metadata": {},
   "outputs": [],
   "source": []
  }
 ],
 "metadata": {
  "kernelspec": {
   "display_name": "Python 3 (ipykernel)",
   "language": "python",
   "name": "python3"
  },
  "language_info": {
   "codemirror_mode": {
    "name": "ipython",
    "version": 3
   },
   "file_extension": ".py",
   "mimetype": "text/x-python",
   "name": "python",
   "nbconvert_exporter": "python",
   "pygments_lexer": "ipython3",
   "version": "3.9.12"
  },
  "latex_envs": {
   "LaTeX_envs_menu_present": true,
   "autoclose": true,
   "autocomplete": true,
   "bibliofile": "biblio.bib",
   "cite_by": "apalike",
   "current_citInitial": 1,
   "eqLabelWithNumbers": true,
   "eqNumInitial": 1,
   "hotkeys": {
    "equation": "Ctrl-E",
    "itemize": "Ctrl-I"
   },
   "labels_anchors": false,
   "latex_user_defs": false,
   "report_style_numbering": true,
   "user_envs_cfg": false
  },
  "nbTranslate": {
   "displayLangs": [
    "*"
   ],
   "hotkey": "alt-t",
   "langInMainMenu": true,
   "sourceLang": "en",
   "targetLang": "fr",
   "useGoogleTranslate": true
  },
  "toc": {
   "base_numbering": 1,
   "nav_menu": {},
   "number_sections": true,
   "sideBar": true,
   "skip_h1_title": false,
   "title_cell": "Table of Contents",
   "title_sidebar": "Contents",
   "toc_cell": false,
   "toc_position": {
    "height": "calc(100% - 180px)",
    "left": "10px",
    "top": "150px",
    "width": "256px"
   },
   "toc_section_display": true,
   "toc_window_display": false
  },
  "varInspector": {
   "cols": {
    "lenName": 16,
    "lenType": 16,
    "lenVar": 40
   },
   "kernels_config": {
    "python": {
     "delete_cmd_postfix": "",
     "delete_cmd_prefix": "del ",
     "library": "var_list.py",
     "varRefreshCmd": "print(var_dic_list())"
    },
    "r": {
     "delete_cmd_postfix": ") ",
     "delete_cmd_prefix": "rm(",
     "library": "var_list.r",
     "varRefreshCmd": "cat(var_dic_list()) "
    }
   },
   "types_to_exclude": [
    "module",
    "function",
    "builtin_function_or_method",
    "instance",
    "_Feature"
   ],
   "window_display": false
  }
 },
 "nbformat": 4,
 "nbformat_minor": 5
}
